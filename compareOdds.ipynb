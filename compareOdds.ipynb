{
 "cells": [
  {
   "cell_type": "code",
   "execution_count": null,
   "metadata": {},
   "outputs": [],
   "source": [
    "%run bovadaScraper.ipynb\n",
    "%run prizePicksAPI.ipynb\n",
    "import pandas as pd\n",
    "\n",
    "pp_shots, pp_sog = get_pp_lines()\n",
    "bovada_shots, bovada_sog = get_bovada_lines()"
   ]
  },
  {
   "cell_type": "code",
   "execution_count": null,
   "metadata": {},
   "outputs": [],
   "source": [
    "\"\"\"\n",
    "######################################################\n",
    " LIST OF ALL INCONSISTENT NAMES BETWEEN PP AND BOVADA\n",
    "######################################################\n",
    "\n",
    "PP: Aitor Garcia    BOVADA: Aitor\n",
    "\n",
    "\"\"\""
   ]
  },
  {
   "cell_type": "code",
   "execution_count": null,
   "metadata": {},
   "outputs": [],
   "source": [
    "\n",
    "def compare_shots_odds(pp_shots, bovada_shots):\n",
    "    #Creates a dataframe of all +EV shots bets\n",
    "    \n",
    "    #Merge Dataframes\n",
    "    df_merged = pd.merge(pp_shots, bovada_shots, on = ['name', 'lines'])\n",
    "    df_merged = df_merged[['name', 'team_x', 'opponent', 'lines', 'odds']]\n",
    "    df_merged = df_merged.drop_duplicates()\n",
    "    df_merged = df_merged.rename(columns = {'team_x' : 'team'})\n",
    "    plus_EV_df = df_merged[df_merged['odds'] >= 124]\n",
    "    return plus_EV_df\n",
    "\n",
    "def compare_sog_odds(pp_sog, bovada_sog):\n",
    "    #Creates a dataframe of all +EV sog bets\n",
    "\n",
    "    df_merged = pd.merge(pp_sog, bovada_sog, on = ['name', 'lines'])\n",
    "    df_merged = df_merged[['name', 'team_x', 'opponent', 'lines', 'odds']]\n",
    "    df_merged = df_merged.drop_duplicates()\n",
    "    df_merged = df_merged.rename(columns = {'team_x' : 'team'})\n",
    "    plus_EV_df = df_merged[df_merged['odds'] >= 124]\n",
    "    return plus_EV_df"
   ]
  },
  {
   "cell_type": "code",
   "execution_count": null,
   "metadata": {},
   "outputs": [],
   "source": [
    "def final_plus_EV_df(pp_shots, bovada_shots, pp_sog, bovada_sog):\n",
    "    #Creates a combines dataframe of all +EV bets for sog and shots\n",
    "    shots_df = compare_shots_odds(pp_shots, bovada_shots)\n",
    "    shots_df[\"Bet Type\"] = \"Shots\"\n",
    "    sog_df = compare_sog_odds(pp_sog, bovada_sog)\n",
    "    sog_df[\"Bet Type\"] = \"SOG\"\n",
    "    final_df = pd.concat([shots_df, sog_df])\n",
    "    return final_df"
   ]
  },
  {
   "cell_type": "code",
   "execution_count": null,
   "metadata": {},
   "outputs": [],
   "source": [
    "result = final_plus_EV_df(pp_shots, bovada_shots, pp_sog, bovada_sog)\n",
    "result.head()"
   ]
  }
 ],
 "metadata": {
  "kernelspec": {
   "display_name": "Python 3",
   "language": "python",
   "name": "python3"
  },
  "language_info": {
   "codemirror_mode": {
    "name": "ipython",
    "version": 3
   },
   "file_extension": ".py",
   "mimetype": "text/x-python",
   "name": "python",
   "nbconvert_exporter": "python",
   "pygments_lexer": "ipython3",
   "version": "3.11.3"
  },
  "orig_nbformat": 4
 },
 "nbformat": 4,
 "nbformat_minor": 2
}
