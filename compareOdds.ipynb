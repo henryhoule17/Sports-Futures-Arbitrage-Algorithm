{
 "cells": [
  {
   "cell_type": "code",
   "execution_count": null,
   "metadata": {},
   "outputs": [],
   "source": [
    "%run bovadaScraper.ipynb\n",
    "%run prizePicksAPI.ipynb\n",
    "import pandas as pd"
   ]
  },
  {
   "cell_type": "code",
   "execution_count": null,
   "metadata": {},
   "outputs": [],
   "source": [
    "\n",
    "def compare_shots_odds():\n",
    "    #Creates a dataframe of all +EV shots bets\n",
    "    #Retrieve Dataframes\n",
    "    pp_shots = get_pp_shots()\n",
    "    bovada_shots = get_bv_shots()\n",
    "    print(bovada_shots)\n",
    "    print(pp_shots)\n",
    "    \n",
    "    #Merge Dataframes\n",
    "    df_merged = pd.merge(pp_shots, bovada_shots, on = ['name', 'lines'])\n",
    "    df_merged = df_merged[['name', 'team_x', 'opponent', 'lines', 'odds']]\n",
    "    df_merged = df_merged.drop_duplicates()\n",
    "    df_merged = df_merged.rename(columns = {'team_x' : 'team'})\n",
    "    df_merged['odds'] = df_merged['odds'].astype(int)\n",
    "    plus_EV_df = df_merged[df_merged['odds'] >= 0]\n",
    "    return plus_EV_df\n",
    "\n",
    "def compare_sog_odds():\n",
    "    #Creates a dataframe of all +EV sog bets\n",
    "    pp_sog = get_pp_sog()\n",
    "    bovada_sog = get_bv_sog()\n",
    "\n",
    "    df_merged = pd.merge(pp_sog, bovada_sog, on = ['name', 'lines'])\n",
    "    df_merged = df_merged[['name', 'team_x', 'opponent', 'lines', 'odds']]\n",
    "    df_merged = df_merged.drop_duplicates()\n",
    "    df_merged = df_merged.rename(columns = {'team_x' : 'team'})\n",
    "    df_merged['odds'] = df_merged['odds'].astype(int)\n",
    "    plus_EV_df = df_merged[df_merged['odds'] >= 124]\n",
    "    return plus_EV_df\n",
    "    \n",
    "compare_shots_odds()"
   ]
  }
 ],
 "metadata": {
  "kernelspec": {
   "display_name": "Python 3",
   "language": "python",
   "name": "python3"
  },
  "language_info": {
   "codemirror_mode": {
    "name": "ipython",
    "version": 3
   },
   "file_extension": ".py",
   "mimetype": "text/x-python",
   "name": "python",
   "nbconvert_exporter": "python",
   "pygments_lexer": "ipython3",
   "version": "3.11.3"
  },
  "orig_nbformat": 4
 },
 "nbformat": 4,
 "nbformat_minor": 2
}
