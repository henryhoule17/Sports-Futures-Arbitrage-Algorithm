{
 "cells": [
  {
   "cell_type": "code",
   "execution_count": 20,
   "metadata": {},
   "outputs": [],
   "source": [
    "%run bovadaScraper.ipynb\n",
    "%run prizePicksAPI.ipynb\n",
    "import pandas as pd"
   ]
  },
  {
   "cell_type": "code",
   "execution_count": 21,
   "metadata": {},
   "outputs": [
    {
     "data": {
      "text/html": [
       "<div>\n",
       "<style scoped>\n",
       "    .dataframe tbody tr th:only-of-type {\n",
       "        vertical-align: middle;\n",
       "    }\n",
       "\n",
       "    .dataframe tbody tr th {\n",
       "        vertical-align: top;\n",
       "    }\n",
       "\n",
       "    .dataframe thead th {\n",
       "        text-align: right;\n",
       "    }\n",
       "</style>\n",
       "<table border=\"1\" class=\"dataframe\">\n",
       "  <thead>\n",
       "    <tr style=\"text-align: right;\">\n",
       "      <th></th>\n",
       "      <th>name</th>\n",
       "      <th>team</th>\n",
       "      <th>opponent</th>\n",
       "      <th>lines</th>\n",
       "      <th>odds</th>\n",
       "    </tr>\n",
       "  </thead>\n",
       "  <tbody>\n",
       "    <tr>\n",
       "      <th>0</th>\n",
       "      <td>Douglas Costa</td>\n",
       "      <td>LA Galaxy</td>\n",
       "      <td>LAFC</td>\n",
       "      <td>1.5</td>\n",
       "      <td>-108</td>\n",
       "    </tr>\n",
       "    <tr>\n",
       "      <th>2</th>\n",
       "      <td>Riqui Puig</td>\n",
       "      <td>LA Galaxy</td>\n",
       "      <td>LAFC</td>\n",
       "      <td>2.5</td>\n",
       "      <td>-122</td>\n",
       "    </tr>\n",
       "  </tbody>\n",
       "</table>\n",
       "</div>"
      ],
      "text/plain": [
       "            name       team opponent lines  odds\n",
       "0  Douglas Costa  LA Galaxy     LAFC   1.5  -108\n",
       "2     Riqui Puig  LA Galaxy     LAFC   2.5  -122"
      ]
     },
     "execution_count": 21,
     "metadata": {},
     "output_type": "execute_result"
    }
   ],
   "source": [
    "\n",
    "def compare_shots_odds():\n",
    "    #Creates a dataframe of all +EV shots bets\n",
    "    #Retrieve Dataframes\n",
    "    pp_shots = get_pp_shots()\n",
    "    bovada_shots = get_bv_shots()\n",
    "    \n",
    "    #Merge Dataframes\n",
    "    df_merged = pd.merge(pp_shots, bovada_shots, on = ['name', 'lines'])\n",
    "    df_merged = df_merged[['name', 'team_x', 'opponent', 'lines', 'odds']]\n",
    "    df_merged = df_merged.drop_duplicates()\n",
    "    df_merged = df_merged.rename(columns = {'team_x' : 'team'})\n",
    "    plus_EV_df = df_merged[df_merged['lines'] >= 124]\n",
    "    return plus_EV_df\n",
    "\n",
    "def compare_sog_odds():\n",
    "    #Creates a dataframe of all +EV sog bets\n",
    "    pp_sog = get_pp_sog()\n",
    "    bovada_sog = get_bv_sog()\n",
    "\n",
    "    df_merged = pd.merge(pp_sog, bovada_sog, on = ['name', 'lines'])\n",
    "    df_merged = df_merged[['name', 'team_x', 'opponent', 'lines', 'odds']]\n",
    "    df_merged = df_merged.drop_duplicates()\n",
    "    df_merged = df_merged.rename(columns = {'team_x' : 'team'})\n",
    "    plus_EV_df = df_merged[df_merged['lines'] >= 124]\n",
    "    return plus_EV_df\n",
    "    \n",
    "compare_shots_odds()"
   ]
  },
  {
   "cell_type": "code",
   "execution_count": null,
   "metadata": {},
   "outputs": [],
   "source": []
  }
 ],
 "metadata": {
  "kernelspec": {
   "display_name": "Python 3",
   "language": "python",
   "name": "python3"
  },
  "language_info": {
   "codemirror_mode": {
    "name": "ipython",
    "version": 3
   },
   "file_extension": ".py",
   "mimetype": "text/x-python",
   "name": "python",
   "nbconvert_exporter": "python",
   "pygments_lexer": "ipython3",
   "version": "3.10.11"
  },
  "orig_nbformat": 4
 },
 "nbformat": 4,
 "nbformat_minor": 2
}
