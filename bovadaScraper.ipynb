{
 "cells": [
  {
   "cell_type": "code",
   "execution_count": 144,
   "metadata": {},
   "outputs": [],
   "source": [
    "import datetime\n",
    "from selenium import webdriver\n",
    "from selenium.webdriver.support import expected_conditions as EC\n",
    "from selenium.webdriver.common.keys import Keys\n",
    "from selenium.webdriver.chrome.options import Options\n",
    "from selenium.webdriver.common.by import By\n",
    "from selenium.webdriver.support.ui import WebDriverWait\n",
    "from selenium.webdriver.support.ui import Select\n",
    "from selenium.webdriver.chrome.service import Service\n",
    "import csv\n",
    "\n",
    "import matplotlib.pyplot as plt\n",
    "\n",
    "import numpy as np\n",
    "import pandas as pd\n",
    "\n",
    "# import plotly.plotly as py\n",
    "# import plotly.graph_objs as go\n",
    "# from plotly.offline import iplot, init_notebook_mode\n",
    "\n",
    "options = Options()\n",
    "#options.add_argument(\"--headless\")\n",
    "\n",
    "pd.set_option('display.max_rows', 1000)\n",
    "\n",
    "#service = Service('/Users/henry/Downloads/chromedriver')\n",
    "driver = webdriver.Chrome(options=options) #service=service, options=options\n",
    "#This is the path to your Chrome webdriver. Make sure you have the right one for your OS"
   ]
  },
  {
   "cell_type": "code",
   "execution_count": 174,
   "metadata": {},
   "outputs": [],
   "source": [
    "def get_prop_lines(select, value):\n",
    "    select.select_by_value(value)\n",
    "    result = pd.DataFrame(columns=[\"name\", \"team\", \"lines\", \"odds\"])\n",
    "    #fetches all games for a given prop\n",
    "    games = driver.find_element(By.CLASS_NAME, \"wrapper\")\n",
    "    games = games.find_elements(By.TAG_NAME, \"app-game\")\n",
    "\n",
    "    for game in games:\n",
    "        game.click()\n",
    "        print(\"clicked\")\n",
    "        print(game)\n",
    "        driver.implicitly_wait(2)\n",
    "        game_layer1 = game.find_element(By.TAG_NAME, \"app-ss-markets\")\n",
    "        players = game_layer1.find_elements(By.CLASS_NAME, \"player-group\")\n",
    "        print(f\"Players: {len(players)}\")\n",
    "        for player in players:\n",
    "            name = player.find_element(By.TAG_NAME, \"b\").text\n",
    "            print(f\"Name: {name}\")\n",
    "            team = player.find_element(By.CLASS_NAME, \"ss-team-names\").text\n",
    "            lines = player.find_element(By.TAG_NAME, \"option\").get_attribute(\"value\")\n",
    "            odds = player.find_element(By.TAG_NAME, \"button\").text\n",
    "\n",
    "            # names = [n.text for n in name]\n",
    "            # lines = [l.get_attribute(\"value\") for l in lines]\n",
    "            # odds = [o.text for o in odds]\n",
    "            # teams = [t.text for t in team]\n",
    "\n",
    "            line = lines[0]\n",
    "\n",
    "            result.append({\"name\": name, \"team\": team, \"lines\": line, \"odds\": odds})\n",
    "            print(name, team, line, odds)\n",
    "        #print(result)\n",
    "        game.click()\n",
    "\n",
    "    return result"
   ]
  },
  {
   "cell_type": "code",
   "execution_count": 166,
   "metadata": {},
   "outputs": [],
   "source": [
    "#Main function to run the scraper\n",
    "def bovScrape_MX_props():\n",
    "    driver.get('https://www.bovada.lv/sports/soccer/north-america/mexico/liga-mx-apertura')\n",
    "    driver.implicitly_wait(5)\n",
    "\n",
    "    wait = WebDriverWait(driver, 10)\n",
    "    league_box = wait.until(EC.presence_of_element_located((By.ID, \"playerPropsLeagueFrame\")))\n",
    "    league_frame = league_box.find_element(By.TAG_NAME, \"iframe\")\n",
    "    driver.switch_to.frame(league_frame)\n",
    "    dropdown = WebDriverWait(driver, 10).until(EC.presence_of_element_located((By.TAG_NAME, \"select\")))\n",
    "    select = Select(dropdown)\n",
    "\n",
    "    shots_lines = get_prop_lines(select, \"Shots\")\n",
    "    shots_on_goal_lines = get_prop_lines(select, \"Shots on Goal\")\n",
    "\n",
    "\n",
    "    return shots_lines, shots_on_goal_lines\n",
    "    "
   ]
  },
  {
   "cell_type": "code",
   "execution_count": 175,
   "metadata": {},
   "outputs": [
    {
     "name": "stdout",
     "output_type": "stream",
     "text": [
      "clicked\n",
      "<selenium.webdriver.remote.webelement.WebElement (session=\"85754c47e5e6f52aba46a15d00c684c8\", element=\"6CEE82AE563B26C0575AB763A0A9D8A5_element_4\")>\n"
     ]
    },
    {
     "ename": "NoSuchElementException",
     "evalue": "Message: no such element: Unable to locate element: {\"method\":\"tag name\",\"selector\":\"app-ss-markets\"}\n  (Session info: chrome=114.0.5735.134)\nStacktrace:\nBacktrace:\n\tGetHandleVerifier [0x00A4A813+48355]\n\t(No symbol) [0x009DC4B1]\n\t(No symbol) [0x008E5358]\n\t(No symbol) [0x009109A5]\n\t(No symbol) [0x00910B3B]\n\t(No symbol) [0x00909AE1]\n\t(No symbol) [0x0092A784]\n\t(No symbol) [0x00909A36]\n\t(No symbol) [0x0092AA94]\n\t(No symbol) [0x0093C922]\n\t(No symbol) [0x0092A536]\n\t(No symbol) [0x009082DC]\n\t(No symbol) [0x009093DD]\n\tGetHandleVerifier [0x00CAAABD+2539405]\n\tGetHandleVerifier [0x00CEA78F+2800735]\n\tGetHandleVerifier [0x00CE456C+2775612]\n\tGetHandleVerifier [0x00AD51E0+616112]\n\t(No symbol) [0x009E5F8C]\n\t(No symbol) [0x009E2328]\n\t(No symbol) [0x009E240B]\n\t(No symbol) [0x009D4FF7]\n\tBaseThreadInitThunk [0x76567D59+25]\n\tRtlInitializeExceptionChain [0x77E4B74B+107]\n\tRtlClearBits [0x77E4B6CF+191]\n",
     "output_type": "error",
     "traceback": [
      "\u001b[1;31m---------------------------------------------------------------------------\u001b[0m",
      "\u001b[1;31mNoSuchElementException\u001b[0m                    Traceback (most recent call last)",
      "Cell \u001b[1;32mIn[175], line 1\u001b[0m\n\u001b[1;32m----> 1\u001b[0m shots, sogs \u001b[39m=\u001b[39m bovScrape_MX_props()\n\u001b[0;32m      2\u001b[0m shots\u001b[39m.\u001b[39mhead()\n",
      "Cell \u001b[1;32mIn[166], line 19\u001b[0m, in \u001b[0;36mbovScrape_MX_props\u001b[1;34m()\u001b[0m\n\u001b[0;32m     15\u001b[0m select \u001b[39m=\u001b[39m Select(dropdown)\n\u001b[0;32m     16\u001b[0m \u001b[39m#shots = league_layer4.find_elements(By.XPATH, \"//option[@value='Shots']\")\u001b[39;00m\n\u001b[0;32m     17\u001b[0m \u001b[39m#shots, sogs)\u001b[39;00m\n\u001b[0;32m     18\u001b[0m \u001b[39m#prop_options = prop_types[0].find_elements(By.TAG_NAME, \"option\")\u001b[39;00m\n\u001b[1;32m---> 19\u001b[0m shots_lines \u001b[39m=\u001b[39m get_prop_lines(select, \u001b[39m\"\u001b[39;49m\u001b[39mShots\u001b[39;49m\u001b[39m\"\u001b[39;49m)\n\u001b[0;32m     20\u001b[0m shots_on_goal_lines \u001b[39m=\u001b[39m get_prop_lines(select, \u001b[39m\"\u001b[39m\u001b[39mShots on Goal\u001b[39m\u001b[39m\"\u001b[39m)\n\u001b[0;32m     23\u001b[0m \u001b[39mreturn\u001b[39;00m shots_lines, shots_on_goal_lines\n",
      "Cell \u001b[1;32mIn[174], line 13\u001b[0m, in \u001b[0;36mget_prop_lines\u001b[1;34m(select, value)\u001b[0m\n\u001b[0;32m     11\u001b[0m \u001b[39mprint\u001b[39m(game)\n\u001b[0;32m     12\u001b[0m driver\u001b[39m.\u001b[39mimplicitly_wait(\u001b[39m2\u001b[39m)\n\u001b[1;32m---> 13\u001b[0m game_layer1 \u001b[39m=\u001b[39m game\u001b[39m.\u001b[39;49mfind_element(By\u001b[39m.\u001b[39;49mTAG_NAME, \u001b[39m\"\u001b[39;49m\u001b[39mapp-ss-markets\u001b[39;49m\u001b[39m\"\u001b[39;49m)\n\u001b[0;32m     14\u001b[0m players \u001b[39m=\u001b[39m game_layer1\u001b[39m.\u001b[39mfind_elements(By\u001b[39m.\u001b[39mCLASS_NAME, \u001b[39m\"\u001b[39m\u001b[39mplayer-group\u001b[39m\u001b[39m\"\u001b[39m)\n\u001b[0;32m     15\u001b[0m \u001b[39mprint\u001b[39m(\u001b[39mf\u001b[39m\u001b[39m\"\u001b[39m\u001b[39mPlayers: \u001b[39m\u001b[39m{\u001b[39;00m\u001b[39mlen\u001b[39m(players)\u001b[39m}\u001b[39;00m\u001b[39m\"\u001b[39m)\n",
      "File \u001b[1;32mc:\\Python311\\Lib\\site-packages\\selenium\\webdriver\\remote\\webelement.py:425\u001b[0m, in \u001b[0;36mWebElement.find_element\u001b[1;34m(self, by, value)\u001b[0m\n\u001b[0;32m    422\u001b[0m     by \u001b[39m=\u001b[39m By\u001b[39m.\u001b[39mCSS_SELECTOR\n\u001b[0;32m    423\u001b[0m     value \u001b[39m=\u001b[39m \u001b[39mf\u001b[39m\u001b[39m'\u001b[39m\u001b[39m[name=\u001b[39m\u001b[39m\"\u001b[39m\u001b[39m{\u001b[39;00mvalue\u001b[39m}\u001b[39;00m\u001b[39m\"\u001b[39m\u001b[39m]\u001b[39m\u001b[39m'\u001b[39m\n\u001b[1;32m--> 425\u001b[0m \u001b[39mreturn\u001b[39;00m \u001b[39mself\u001b[39;49m\u001b[39m.\u001b[39;49m_execute(Command\u001b[39m.\u001b[39;49mFIND_CHILD_ELEMENT, {\u001b[39m\"\u001b[39;49m\u001b[39musing\u001b[39;49m\u001b[39m\"\u001b[39;49m: by, \u001b[39m\"\u001b[39;49m\u001b[39mvalue\u001b[39;49m\u001b[39m\"\u001b[39;49m: value})[\u001b[39m\"\u001b[39m\u001b[39mvalue\u001b[39m\u001b[39m\"\u001b[39m]\n",
      "File \u001b[1;32mc:\\Python311\\Lib\\site-packages\\selenium\\webdriver\\remote\\webelement.py:403\u001b[0m, in \u001b[0;36mWebElement._execute\u001b[1;34m(self, command, params)\u001b[0m\n\u001b[0;32m    401\u001b[0m     params \u001b[39m=\u001b[39m {}\n\u001b[0;32m    402\u001b[0m params[\u001b[39m\"\u001b[39m\u001b[39mid\u001b[39m\u001b[39m\"\u001b[39m] \u001b[39m=\u001b[39m \u001b[39mself\u001b[39m\u001b[39m.\u001b[39m_id\n\u001b[1;32m--> 403\u001b[0m \u001b[39mreturn\u001b[39;00m \u001b[39mself\u001b[39;49m\u001b[39m.\u001b[39;49m_parent\u001b[39m.\u001b[39;49mexecute(command, params)\n",
      "File \u001b[1;32mc:\\Python311\\Lib\\site-packages\\selenium\\webdriver\\remote\\webdriver.py:440\u001b[0m, in \u001b[0;36mWebDriver.execute\u001b[1;34m(self, driver_command, params)\u001b[0m\n\u001b[0;32m    438\u001b[0m response \u001b[39m=\u001b[39m \u001b[39mself\u001b[39m\u001b[39m.\u001b[39mcommand_executor\u001b[39m.\u001b[39mexecute(driver_command, params)\n\u001b[0;32m    439\u001b[0m \u001b[39mif\u001b[39;00m response:\n\u001b[1;32m--> 440\u001b[0m     \u001b[39mself\u001b[39;49m\u001b[39m.\u001b[39;49merror_handler\u001b[39m.\u001b[39;49mcheck_response(response)\n\u001b[0;32m    441\u001b[0m     response[\u001b[39m\"\u001b[39m\u001b[39mvalue\u001b[39m\u001b[39m\"\u001b[39m] \u001b[39m=\u001b[39m \u001b[39mself\u001b[39m\u001b[39m.\u001b[39m_unwrap_value(response\u001b[39m.\u001b[39mget(\u001b[39m\"\u001b[39m\u001b[39mvalue\u001b[39m\u001b[39m\"\u001b[39m, \u001b[39mNone\u001b[39;00m))\n\u001b[0;32m    442\u001b[0m     \u001b[39mreturn\u001b[39;00m response\n",
      "File \u001b[1;32mc:\\Python311\\Lib\\site-packages\\selenium\\webdriver\\remote\\errorhandler.py:245\u001b[0m, in \u001b[0;36mErrorHandler.check_response\u001b[1;34m(self, response)\u001b[0m\n\u001b[0;32m    243\u001b[0m         alert_text \u001b[39m=\u001b[39m value[\u001b[39m\"\u001b[39m\u001b[39malert\u001b[39m\u001b[39m\"\u001b[39m]\u001b[39m.\u001b[39mget(\u001b[39m\"\u001b[39m\u001b[39mtext\u001b[39m\u001b[39m\"\u001b[39m)\n\u001b[0;32m    244\u001b[0m     \u001b[39mraise\u001b[39;00m exception_class(message, screen, stacktrace, alert_text)  \u001b[39m# type: ignore[call-arg]  # mypy is not smart enough here\u001b[39;00m\n\u001b[1;32m--> 245\u001b[0m \u001b[39mraise\u001b[39;00m exception_class(message, screen, stacktrace)\n",
      "\u001b[1;31mNoSuchElementException\u001b[0m: Message: no such element: Unable to locate element: {\"method\":\"tag name\",\"selector\":\"app-ss-markets\"}\n  (Session info: chrome=114.0.5735.134)\nStacktrace:\nBacktrace:\n\tGetHandleVerifier [0x00A4A813+48355]\n\t(No symbol) [0x009DC4B1]\n\t(No symbol) [0x008E5358]\n\t(No symbol) [0x009109A5]\n\t(No symbol) [0x00910B3B]\n\t(No symbol) [0x00909AE1]\n\t(No symbol) [0x0092A784]\n\t(No symbol) [0x00909A36]\n\t(No symbol) [0x0092AA94]\n\t(No symbol) [0x0093C922]\n\t(No symbol) [0x0092A536]\n\t(No symbol) [0x009082DC]\n\t(No symbol) [0x009093DD]\n\tGetHandleVerifier [0x00CAAABD+2539405]\n\tGetHandleVerifier [0x00CEA78F+2800735]\n\tGetHandleVerifier [0x00CE456C+2775612]\n\tGetHandleVerifier [0x00AD51E0+616112]\n\t(No symbol) [0x009E5F8C]\n\t(No symbol) [0x009E2328]\n\t(No symbol) [0x009E240B]\n\t(No symbol) [0x009D4FF7]\n\tBaseThreadInitThunk [0x76567D59+25]\n\tRtlInitializeExceptionChain [0x77E4B74B+107]\n\tRtlClearBits [0x77E4B6CF+191]\n"
     ]
    }
   ],
   "source": [
    "shots, sogs = bovScrape_MX_props()\n",
    "shots.head()"
   ]
  },
  {
   "cell_type": "code",
   "execution_count": null,
   "metadata": {},
   "outputs": [],
   "source": []
  }
 ],
 "metadata": {
  "kernelspec": {
   "display_name": "Python 3",
   "language": "python",
   "name": "python3"
  },
  "language_info": {
   "codemirror_mode": {
    "name": "ipython",
    "version": 3
   },
   "file_extension": ".py",
   "mimetype": "text/x-python",
   "name": "python",
   "nbconvert_exporter": "python",
   "pygments_lexer": "ipython3",
   "version": "3.11.3"
  },
  "orig_nbformat": 4
 },
 "nbformat": 4,
 "nbformat_minor": 2
}
