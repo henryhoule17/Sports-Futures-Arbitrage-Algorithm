{
 "cells": [
  {
   "cell_type": "code",
   "execution_count": 99,
   "metadata": {},
   "outputs": [],
   "source": [
    "import datetime\n",
    "from selenium import webdriver\n",
    "from selenium.webdriver.support import expected_conditions as EC\n",
    "from selenium.webdriver.common.keys import Keys\n",
    "from selenium.webdriver.chrome.options import Options\n",
    "from selenium.webdriver.common.by import By\n",
    "from selenium.webdriver.support.ui import WebDriverWait\n",
    "from selenium.webdriver.chrome.service import Service\n",
    "import csv\n",
    "\n",
    "import matplotlib.pyplot as plt\n",
    "\n",
    "import numpy as np\n",
    "import pandas as pd\n",
    "\n",
    "# import plotly.plotly as py\n",
    "# import plotly.graph_objs as go\n",
    "# from plotly.offline import iplot, init_notebook_mode\n",
    "\n",
    "options = Options()\n",
    "options.add_argument(\"--headless\")\n",
    "\n",
    "pd.set_option('display.max_rows', 1000)\n",
    "\n",
    "#service = Service('/Users/henry/Downloads/chromedriver')\n",
    "driver = webdriver.Chrome(options=options) #service=service, options=options\n",
    "#This is the path to your Chrome webdriver. Make sure you have the right one for your OS"
   ]
  },
  {
   "cell_type": "code",
   "execution_count": 100,
   "metadata": {},
   "outputs": [],
   "source": [
    "def get_prop_lines(prop):\n",
    "    prop.click()\n",
    "    #fetches all games for a given prop\n",
    "    games = driver.find_elements_by_class(\"market-block\")\n",
    "\n",
    "    for game in games:\n",
    "        game.click()\n",
    "        driver.implicitly_wait(2)\n",
    "        players = game.find_elements_by_class_name(\"player-group\")\n",
    "        wagers = {}\n",
    "        for player in players:\n",
    "            name = player.find_element_by_tag_name(\"b\").text\n",
    "            lines = player.find_element_by_tag_name(\"option\")[0].get_attribute(\"value\")\n",
    "            odds = player.find_element_by_tag_name(\"button\").text\n",
    "            wagers = {\"name\": name, \"lines\": lines, \"odds\": odds}\n",
    "\n",
    "    result = pd.DataFrame(wagers)\n",
    "\n",
    "    return result"
   ]
  },
  {
   "cell_type": "code",
   "execution_count": 105,
   "metadata": {},
   "outputs": [],
   "source": [
    "#Main function to run the scraper\n",
    "def bovScrape_MX_props():\n",
    "    driver.get('https://www.bovada.lv/sports/soccer/north-america/mexico/liga-mx-apertura')\n",
    "    driver.implicitly_wait(5)\n",
    "\n",
    "    #This is the path to the \"Assists\" button. It will click the button to show Assists\n",
    "    wait = WebDriverWait(driver, 10)\n",
    "    league_box = wait.until(EC.presence_of_element_located((By.ID, \"playerPropsLeagueFrame\")))\n",
    "    league_frame = league_box.find_element(By.TAG_NAME, \"iframe\")\n",
    "    driver.switch_to.frame(league_frame)\n",
    "    league_layer1 = driver.find_element(By.TAG_NAME, \"html\")\n",
    "    league_layer2 = WebDriverWait(league_layer1, 10).until(EC.presence_of_element_located((By.TAG_NAME, \"body\")))\n",
    "    league_layer3 = league_layer2.find_element(By.TAG_NAME, \"app-cross-game-widgets\")\n",
    "    league_layer4 = league_layer3.find_element(By.TAG_NAME, \"form\")\n",
    "    #prop_types = WebDriverWait(league_box, 10).until(EC.presence_of_element_located((By.TAG_NAME, \"select\")))\n",
    "    shots = league_layer4.find_elements(By.XPATH, \"//option[@value='Shots']\")\n",
    "    sogs = league_layer4.find_elements(By.XPATH, \"//option[@value='Shots on Goal']\")\n",
    "    print(shots, sogs)\n",
    "    #prop_options = prop_types[0].find_elements(By.TAG_NAME, \"option\")\n",
    "    shots_lines = get_prop_lines(shots)\n",
    "    shots_on_target_lines = get_prop_lines(sogs)\n",
    "\n",
    "    return shots_lines, shots_on_target_lines\n",
    "    "
   ]
  },
  {
   "cell_type": "code",
   "execution_count": 106,
   "metadata": {},
   "outputs": [
    {
     "name": "stdout",
     "output_type": "stream",
     "text": [
      "[<selenium.webdriver.remote.webelement.WebElement (session=\"068a1dbcb9d3d65760e109ebfe37fe51\", element=\"6048A438440D1170E277BD3F46876E7C_element_153\")>] [<selenium.webdriver.remote.webelement.WebElement (session=\"068a1dbcb9d3d65760e109ebfe37fe51\", element=\"6048A438440D1170E277BD3F46876E7C_element_154\")>]\n"
     ]
    },
    {
     "ename": "AttributeError",
     "evalue": "'list' object has no attribute 'click'",
     "output_type": "error",
     "traceback": [
      "\u001b[1;31m---------------------------------------------------------------------------\u001b[0m",
      "\u001b[1;31mAttributeError\u001b[0m                            Traceback (most recent call last)",
      "Cell \u001b[1;32mIn[106], line 1\u001b[0m\n\u001b[1;32m----> 1\u001b[0m shots, sogs \u001b[39m=\u001b[39m bovScrape_MX_props()\n\u001b[0;32m      2\u001b[0m shots\u001b[39m.\u001b[39mhead()\n",
      "Cell \u001b[1;32mIn[105], line 20\u001b[0m, in \u001b[0;36mbovScrape_MX_props\u001b[1;34m()\u001b[0m\n\u001b[0;32m     18\u001b[0m \u001b[39mprint\u001b[39m(shots, sogs)\n\u001b[0;32m     19\u001b[0m \u001b[39m#prop_options = prop_types[0].find_elements(By.TAG_NAME, \"option\")\u001b[39;00m\n\u001b[1;32m---> 20\u001b[0m shots_lines \u001b[39m=\u001b[39m get_prop_lines(shots)\n\u001b[0;32m     21\u001b[0m shots_on_target_lines \u001b[39m=\u001b[39m get_prop_lines(sogs)\n\u001b[0;32m     23\u001b[0m \u001b[39mreturn\u001b[39;00m shots_lines, shots_on_target_lines\n",
      "Cell \u001b[1;32mIn[100], line 2\u001b[0m, in \u001b[0;36mget_prop_lines\u001b[1;34m(prop)\u001b[0m\n\u001b[0;32m      1\u001b[0m \u001b[39mdef\u001b[39;00m \u001b[39mget_prop_lines\u001b[39m(prop):\n\u001b[1;32m----> 2\u001b[0m     prop\u001b[39m.\u001b[39;49mclick()\n\u001b[0;32m      3\u001b[0m     \u001b[39m#fetches all games for a given prop\u001b[39;00m\n\u001b[0;32m      4\u001b[0m     games \u001b[39m=\u001b[39m driver\u001b[39m.\u001b[39mfind_elements_by_class(\u001b[39m\"\u001b[39m\u001b[39mmarket-block\u001b[39m\u001b[39m\"\u001b[39m)\n",
      "\u001b[1;31mAttributeError\u001b[0m: 'list' object has no attribute 'click'"
     ]
    }
   ],
   "source": [
    "shots, sogs = bovScrape_MX_props()\n",
    "shots.head()"
   ]
  }
 ],
 "metadata": {
  "kernelspec": {
   "display_name": "Python 3",
   "language": "python",
   "name": "python3"
  },
  "language_info": {
   "codemirror_mode": {
    "name": "ipython",
    "version": 3
   },
   "file_extension": ".py",
   "mimetype": "text/x-python",
   "name": "python",
   "nbconvert_exporter": "python",
   "pygments_lexer": "ipython3",
   "version": "3.11.3"
  },
  "orig_nbformat": 4
 },
 "nbformat": 4,
 "nbformat_minor": 2
}
