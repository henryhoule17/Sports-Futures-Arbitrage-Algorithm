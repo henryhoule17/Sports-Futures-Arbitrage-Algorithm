{
 "cells": [
  {
   "cell_type": "code",
   "execution_count": null,
   "metadata": {},
   "outputs": [],
   "source": [
    "from selenium import webdriver\n",
    "from selenium.webdriver.support import expected_conditions as EC\n",
    "from selenium.webdriver.chrome.options import Options\n",
    "from selenium.webdriver.common.by import By\n",
    "from selenium.webdriver.support.ui import WebDriverWait\n",
    "from selenium.webdriver.support.ui import Select\n",
    "import time\n",
    "\n",
    "import numpy as np\n",
    "import pandas as pd\n",
    "\n",
    "options = Options()\n",
    "\n",
    "#Comment this out if you want to see the browser, mainly usefull for debugging\n",
    "options.add_argument(\"--headless\")\n",
    "\n",
    "pd.set_option('display.max_rows', 1000)\n",
    "\n",
    "driver = webdriver.Chrome(options=options)"
   ]
  },
  {
   "cell_type": "code",
   "execution_count": null,
   "metadata": {},
   "outputs": [],
   "source": [
    "# Parses the odds and lines from the stings from the list\n",
    "def parseInfo(info, default_odds):\n",
    "    if \"(\" not in info:\n",
    "        return int(info), default_odds\n",
    "    else:\n",
    "        seg = info.split(\"(\", 1)\n",
    "\n",
    "        # Extract the line and the odds string from seg\n",
    "        l = int(seg[0].strip())  # Convert the number to an integer\n",
    "        o = seg[1].strip(\" )\") \n",
    "        return l, o"
   ]
  },
  {
   "cell_type": "code",
   "execution_count": null,
   "metadata": {},
   "outputs": [],
   "source": [
    "def get_prop_lines(select, value):\n",
    "    #Selects the prop passed as 'value' here from dropdown menu\n",
    "    select.select_by_value(value)\n",
    "    driver.implicitly_wait(10)\n",
    "\n",
    "    #Initializes dataframe to store results\n",
    "    result = pd.DataFrame(columns=[\"name\", \"team\", \"lines\", \"odds\"])\n",
    "\n",
    "    #fetches all games for a given prop and store them in 'games'\n",
    "    games_cont = driver.find_element(By.CLASS_NAME, \"wrapper\")\n",
    "    games = games_cont.find_elements(By.TAG_NAME, \"app-game\")\n",
    "\n",
    "    time.sleep(3) # Wait for games to load\n",
    "    for game in games:\n",
    "        game.click()\n",
    "\n",
    "        game_content = WebDriverWait(game, 30).until(EC.presence_of_element_located((By.CSS_SELECTOR, \".content\")))\n",
    "\n",
    "        #Stores each individual prop bet in 'players'\n",
    "        players = game_content.find_elements(By.CLASS_NAME, \"player-group\")\n",
    "        # print(f\"Players: {len(players)}\") (For debugging)\n",
    "\n",
    "        for player in players:\n",
    "            # Gets attributes for each individual prop bet and scrapes their info\n",
    "            name = player.find_element(By.TAG_NAME, \"b\").text\n",
    "            team = player.find_element(By.CLASS_NAME, \"ss-team-names\").text\n",
    "            lines = player.find_elements(By.TAG_NAME, \"option\")\n",
    "            default_odds = player.find_element(By.TAG_NAME, \"button\").text\n",
    "\n",
    "            #Iterates through all the lines for each prop bet and adds them to the dataframe as a new row for each different line        \n",
    "            for line in lines:\n",
    "                info = line.text\n",
    "                l, o = parseInfo(info, default_odds)\n",
    "                wager = pd.DataFrame([{\"name\": name, \"team\": team, \"lines\": l, \"odds\": o}])\n",
    "                frames = [result, wager]\n",
    "                result = pd.concat(frames, ignore_index=True)\n",
    "                # print(name, team, l, o) (For debugging)\n",
    "\n",
    "    return result"
   ]
  },
  {
   "cell_type": "code",
   "execution_count": null,
   "metadata": {},
   "outputs": [],
   "source": [
    "#Source function to run the scraper\n",
    "def bovScrape_league_props(url):\n",
    "    driver.get(url)\n",
    "\n",
    "    #Navigates to part of page where the prop bets are, enters the iframe and accesses the dropdown menu\n",
    "    wait = WebDriverWait(driver, 10)\n",
    "    league_box = wait.until(EC.presence_of_element_located((By.ID, \"playerPropsLeagueFrame\")))\n",
    "\n",
    "    league_frame = league_box.find_element(By.TAG_NAME, \"iframe\")\n",
    "    driver.switch_to.frame(league_frame)\n",
    "\n",
    "    dropdown = WebDriverWait(driver, 10).until(EC.presence_of_element_located((By.TAG_NAME, \"select\")))\n",
    "    select = Select(dropdown)\n",
    "\n",
    "    time.sleep(5) #Need to wait for the games to load properly\n",
    "    shots_lines = get_prop_lines(select, \"Shots\")\n",
    "    shots_on_goal_lines = get_prop_lines(select, \"Shots on Goal\")\n",
    "\n",
    "\n",
    "    return shots_lines, shots_on_goal_lines\n",
    "    "
   ]
  },
  {
   "cell_type": "code",
   "execution_count": null,
   "metadata": {},
   "outputs": [],
   "source": [
    "mx_url = 'https://www.bovada.lv/sports/soccer/north-america/mexico/liga-mx-apertura'\n",
    "mls_url = 'https://www.bovada.lv/sports/soccer/north-america/united-states/mls'\n",
    "# Should be able to add any other league url here and it should work\n",
    "\n",
    "shots, sogs = bovScrape_league_props(mls_url)\n",
    "shots"
   ]
  },
  {
   "cell_type": "code",
   "execution_count": null,
   "metadata": {},
   "outputs": [],
   "source": [
    "sogs"
   ]
  }
 ],
 "metadata": {
  "kernelspec": {
   "display_name": "Python 3",
   "language": "python",
   "name": "python3"
  },
  "language_info": {
   "codemirror_mode": {
    "name": "ipython",
    "version": 3
   },
   "file_extension": ".py",
   "mimetype": "text/x-python",
   "name": "python",
   "nbconvert_exporter": "python",
   "pygments_lexer": "ipython3",
   "version": "3.11.3"
  },
  "orig_nbformat": 4
 },
 "nbformat": 4,
 "nbformat_minor": 2
}
