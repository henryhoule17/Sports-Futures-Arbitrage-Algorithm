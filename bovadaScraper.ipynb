{
 "cells": [
  {
   "cell_type": "code",
   "execution_count": null,
   "metadata": {},
   "outputs": [],
   "source": [
    "from selenium import webdriver\n",
    "from selenium.webdriver.support import expected_conditions as EC\n",
    "from selenium.webdriver.chrome.options import Options\n",
    "from selenium.webdriver.common.by import By\n",
    "from selenium.webdriver.support.ui import WebDriverWait\n",
    "from selenium.webdriver.support.ui import Select\n",
    "\n",
    "import numpy as np\n",
    "import pandas as pd\n",
    "\n",
    "options = Options()\n",
    "\n",
    "#Comment this out if you want to see the browser\n",
    "#options.add_argument(\"--headless\")\n",
    "\n",
    "pd.set_option('display.max_rows', 1000)\n",
    "\n",
    "driver = webdriver.Chrome(options=options)"
   ]
  },
  {
   "cell_type": "code",
   "execution_count": null,
   "metadata": {},
   "outputs": [],
   "source": [
    "def get_prop_lines(select, value):\n",
    "    #Selects the prop passed as 'value' here from dropdown menu\n",
    "    select.select_by_value(value)\n",
    "    driver.implicitly_wait(10)\n",
    "\n",
    "    #Initializes dataframe to store results\n",
    "    result = pd.DataFrame(columns=[\"name\", \"team\", \"lines\", \"odds\"])\n",
    "\n",
    "    #fetches all games for a given prop and store them in 'games'\n",
    "    games_cont = driver.find_element(By.CLASS_NAME, \"wrapper\")\n",
    "    games = games_cont.find_elements(By.TAG_NAME, \"app-game\")\n",
    "\n",
    "    for game in games:\n",
    "        # Running into persistent proglem where the buttons for the individual games are not clicked properly so \n",
    "        # user has to click them when the program gets there (need to turn off headless mode to see this)\n",
    "        # 4 lines below works for the MX games but not MLS for some reason\n",
    "        driver.implicitly_wait(15)\n",
    "        game.click()\n",
    "        driver.implicitly_wait(2)\n",
    "        game.click()\n",
    "\n",
    "        game_content = WebDriverWait(game, 30).until(EC.presence_of_element_located((By.CSS_SELECTOR, \".content\")))\n",
    "        #Stores each individual prop bet in 'players'\n",
    "        players = game_content.find_elements(By.CLASS_NAME, \"player-group\")\n",
    "        print(f\"Players: {len(players)}\")\n",
    "        for player in players:\n",
    "            #Gets attributes for each individual prop bet and puts them all into one dataframe\n",
    "            name = player.find_element(By.TAG_NAME, \"b\").text\n",
    "            team = player.find_element(By.CLASS_NAME, \"ss-team-names\").text\n",
    "            lines = player.find_element(By.TAG_NAME, \"option\").get_attribute(\"value\")\n",
    "            line = lines[0]\n",
    "            odds = player.find_element(By.TAG_NAME, \"button\").text\n",
    "\n",
    "            wager = pd.DataFrame([{\"name\": name, \"team\": team, \"lines\": line, \"odds\": odds}])\n",
    "            frames = [result, wager]\n",
    "            result = pd.concat(frames, ignore_index=True)\n",
    "\n",
    "            print(name, team, line, odds)\n",
    "\n",
    "        game.click()\n",
    "\n",
    "    return result"
   ]
  },
  {
   "cell_type": "code",
   "execution_count": null,
   "metadata": {},
   "outputs": [],
   "source": [
    "#Source function to run the scraper\n",
    "def bovScrape_league_props(url):\n",
    "    driver.get(url)\n",
    "    driver.implicitly_wait(5)\n",
    "\n",
    "    #Navigates to part of page where the prop bets are, enters the iframe and accesses the dropdown menu\n",
    "    wait = WebDriverWait(driver, 10)\n",
    "    league_box = wait.until(EC.presence_of_element_located((By.ID, \"playerPropsLeagueFrame\")))\n",
    "\n",
    "    league_frame = league_box.find_element(By.TAG_NAME, \"iframe\")\n",
    "    driver.switch_to.frame(league_frame)\n",
    "\n",
    "    dropdown = WebDriverWait(driver, 10).until(EC.presence_of_element_located((By.TAG_NAME, \"select\")))\n",
    "    select = Select(dropdown)\n",
    "\n",
    "    shots_lines = get_prop_lines(select, \"Shots\")\n",
    "    shots_on_goal_lines = get_prop_lines(select, \"Shots on Goal\")\n",
    "\n",
    "\n",
    "    return shots_lines, shots_on_goal_lines\n",
    "    "
   ]
  },
  {
   "cell_type": "code",
   "execution_count": null,
   "metadata": {},
   "outputs": [],
   "source": [
    "mex_url = 'https://www.bovada.lv/sports/soccer/north-america/mexico/liga-mx-apertura'\n",
    "mls_url = 'https://www.bovada.lv/sports/soccer/north-america/united-states/mls'\n",
    "shots, sogs = bovScrape_league_props(mls_url)\n",
    "shots"
   ]
  },
  {
   "cell_type": "code",
   "execution_count": null,
   "metadata": {},
   "outputs": [],
   "source": [
    "sogs"
   ]
  }
 ],
 "metadata": {
  "kernelspec": {
   "display_name": "Python 3",
   "language": "python",
   "name": "python3"
  },
  "language_info": {
   "codemirror_mode": {
    "name": "ipython",
    "version": 3
   },
   "file_extension": ".py",
   "mimetype": "text/x-python",
   "name": "python",
   "nbconvert_exporter": "python",
   "pygments_lexer": "ipython3",
   "version": "3.11.3"
  },
  "orig_nbformat": 4
 },
 "nbformat": 4,
 "nbformat_minor": 2
}
