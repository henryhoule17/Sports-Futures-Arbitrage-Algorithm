{
 "cells": [
  {
   "cell_type": "code",
   "execution_count": 144,
   "metadata": {},
   "outputs": [],
   "source": [
    "import datetime\n",
    "from selenium import webdriver\n",
    "from selenium.webdriver.support import expected_conditions as EC\n",
    "from selenium.webdriver.common.keys import Keys\n",
    "from selenium.webdriver.chrome.options import Options\n",
    "from selenium.webdriver.common.by import By\n",
    "from selenium.webdriver.support.ui import WebDriverWait\n",
    "from selenium.webdriver.support.ui import Select\n",
    "from selenium.webdriver.chrome.service import Service\n",
    "import csv\n",
    "\n",
    "import matplotlib.pyplot as plt\n",
    "\n",
    "import numpy as np\n",
    "import pandas as pd\n",
    "\n",
    "# import plotly.plotly as py\n",
    "# import plotly.graph_objs as go\n",
    "# from plotly.offline import iplot, init_notebook_mode\n",
    "\n",
    "options = Options()\n",
    "#options.add_argument(\"--headless\")\n",
    "\n",
    "pd.set_option('display.max_rows', 1000)\n",
    "\n",
    "#service = Service('/Users/henry/Downloads/chromedriver')\n",
    "driver = webdriver.Chrome(options=options) #service=service, options=options\n",
    "#This is the path to your Chrome webdriver. Make sure you have the right one for your OS"
   ]
  },
  {
   "cell_type": "code",
   "execution_count": 169,
   "metadata": {},
   "outputs": [],
   "source": [
    "def get_prop_lines(select, value):\n",
    "    select.select_by_value(value)\n",
    "    #fetches all games for a given prop\n",
    "    games = driver.find_element(By.CLASS_NAME, \"wrapper\")\n",
    "    games = games.find_elements(By.TAG_NAME, \"app-game\")\n",
    "\n",
    "    result = pd.DataFrame(columns=[\"name\", \"team\", \"lines\", \"odds\"])\n",
    "    for game in games:\n",
    "        game.click()\n",
    "        print(\"clicked\")\n",
    "        wagers = {}\n",
    "        driver.implicitly_wait(2)\n",
    "        players = game.find_elements(By.CLASS_NAME, \"player-group\")\n",
    "        for player in players:\n",
    "            name = player.find_element(By.TAG_NAME, \"b\").text\n",
    "            print(\"player\")\n",
    "            team = player.find_element(By.CLASS_NAME, \"ss-team-names\").text\n",
    "            lines = player.find_element(By.TAG_NAME, \"option\").get_attribute(\"value\")\n",
    "            odds = player.find_element(By.TAG_NAME, \"button\").text\n",
    "\n",
    "            # names = [n.text for n in name]\n",
    "            # lines = [l.get_attribute(\"value\") for l in lines]\n",
    "            # odds = [o.text for o in odds]\n",
    "            # teams = [t.text for t in team]\n",
    "\n",
    "            line = lines[0]\n",
    "\n",
    "            wager = {\"name\": name, \"team\": team, \"lines\": line, \"odds\": odds}\n",
    "            wagers.append(wager)\n",
    "            print(name, team, line, odds)\n",
    "            df = pd.DataFrame(wagers)\n",
    "            result = result.append(df)\n",
    "        #print(result)\n",
    "        game.click()\n",
    "\n",
    "    return result"
   ]
  },
  {
   "cell_type": "code",
   "execution_count": 166,
   "metadata": {},
   "outputs": [],
   "source": [
    "#Main function to run the scraper\n",
    "def bovScrape_MX_props():\n",
    "    driver.get('https://www.bovada.lv/sports/soccer/north-america/mexico/liga-mx-apertura')\n",
    "    driver.implicitly_wait(5)\n",
    "\n",
    "    wait = WebDriverWait(driver, 10)\n",
    "    league_box = wait.until(EC.presence_of_element_located((By.ID, \"playerPropsLeagueFrame\")))\n",
    "    league_frame = league_box.find_element(By.TAG_NAME, \"iframe\")\n",
    "    driver.switch_to.frame(league_frame)\n",
    "    # league_layer1 = driver.find_element(By.TAG_NAME, \"html\")\n",
    "    # league_layer2 = WebDriverWait(league_layer1, 10).until(EC.presence_of_element_located((By.TAG_NAME, \"body\")))\n",
    "    # league_layer3 = league_layer2.find_element(By.TAG_NAME, \"app-cross-game-widgets\")\n",
    "    # league_layer4 = league_layer3.find_element(By.TAG_NAME, \"form\")\n",
    "    dropdown = WebDriverWait(driver, 10).until(EC.presence_of_element_located((By.TAG_NAME, \"select\")))\n",
    "    select = Select(dropdown)\n",
    "    #shots = league_layer4.find_elements(By.XPATH, \"//option[@value='Shots']\")\n",
    "    #shots, sogs)\n",
    "    #prop_options = prop_types[0].find_elements(By.TAG_NAME, \"option\")\n",
    "    shots_lines = get_prop_lines(select, \"Shots\")\n",
    "    shots_on_goal_lines = get_prop_lines(select, \"Shots on Goal\")\n",
    "\n",
    "\n",
    "    return shots_lines, shots_on_goal_lines\n",
    "    "
   ]
  },
  {
   "cell_type": "code",
   "execution_count": 168,
   "metadata": {},
   "outputs": [
    {
     "name": "stdout",
     "output_type": "stream",
     "text": [
      "clicked\n",
      "clicked\n",
      "clicked\n",
      "clicked\n",
      "clicked\n",
      "clicked\n",
      "clicked\n",
      "clicked\n",
      "clicked\n",
      "clicked\n",
      "clicked\n",
      "clicked\n"
     ]
    },
    {
     "data": {
      "text/html": [
       "<div>\n",
       "<style scoped>\n",
       "    .dataframe tbody tr th:only-of-type {\n",
       "        vertical-align: middle;\n",
       "    }\n",
       "\n",
       "    .dataframe tbody tr th {\n",
       "        vertical-align: top;\n",
       "    }\n",
       "\n",
       "    .dataframe thead th {\n",
       "        text-align: right;\n",
       "    }\n",
       "</style>\n",
       "<table border=\"1\" class=\"dataframe\">\n",
       "  <thead>\n",
       "    <tr style=\"text-align: right;\">\n",
       "      <th></th>\n",
       "      <th>name</th>\n",
       "      <th>team</th>\n",
       "      <th>lines</th>\n",
       "      <th>odds</th>\n",
       "    </tr>\n",
       "  </thead>\n",
       "  <tbody>\n",
       "  </tbody>\n",
       "</table>\n",
       "</div>"
      ],
      "text/plain": [
       "Empty DataFrame\n",
       "Columns: [name, team, lines, odds]\n",
       "Index: []"
      ]
     },
     "execution_count": 168,
     "metadata": {},
     "output_type": "execute_result"
    }
   ],
   "source": [
    "shots, sogs = bovScrape_MX_props()\n",
    "shots.head()"
   ]
  },
  {
   "cell_type": "code",
   "execution_count": null,
   "metadata": {},
   "outputs": [],
   "source": []
  }
 ],
 "metadata": {
  "kernelspec": {
   "display_name": "Python 3",
   "language": "python",
   "name": "python3"
  },
  "language_info": {
   "codemirror_mode": {
    "name": "ipython",
    "version": 3
   },
   "file_extension": ".py",
   "mimetype": "text/x-python",
   "name": "python",
   "nbconvert_exporter": "python",
   "pygments_lexer": "ipython3",
   "version": "3.11.3"
  },
  "orig_nbformat": 4
 },
 "nbformat": 4,
 "nbformat_minor": 2
}
