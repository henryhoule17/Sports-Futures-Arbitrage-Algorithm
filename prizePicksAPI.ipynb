{
 "cells": [
  {
   "cell_type": "code",
   "execution_count": null,
   "metadata": {},
   "outputs": [],
   "source": [
    "from selenium import webdriver\n",
    "from selenium.webdriver.chrome.options import Options\n",
    "from selenium.webdriver.common.by import By\n",
    "import json\n",
    "\n",
    "import pandas as pd\n",
    "\n",
    "options = Options()\n",
    "\n",
    "#Comment this out if you want to see the browser, mainly usefull for debugging\n",
    "options.add_argument(\"--headless\")\n",
    "options.add_argument(\"--user-agent=Mozilla/5.0 (X11; Linux x86_64) AppleWebKit/537.36 (KHTML, like Gecko) Chrome/104.0.5112.79 Safari/537.36\")\n",
    "\n",
    "pd.set_option('display.max_rows', 1000)\n",
    "\n",
    "driver = webdriver.Chrome(options=options)"
   ]
  },
  {
   "cell_type": "code",
   "execution_count": null,
   "metadata": {},
   "outputs": [],
   "source": [
    "# Accesses Soccer API for PrizePicks and captures all the text\n",
    "driver.get(\"https://api.prizepicks.com/projections?league_id=82\")\n",
    "data = driver.find_element(By.TAG_NAME, \"pre\").text\n",
    "\n",
    "# Loads into JSON format\n",
    "json_data = json.loads(data)\n",
    "\n",
    "players = [{\"id\": elem[\"id\"], \"name\": elem[\"attributes\"][\"name\"], \"team\": elem[\"attributes\"][\"team\"], } \n",
    "    for elem in json_data[\"included\"] \n",
    "    if elem[\"type\"] == \"new_player\"]\n",
    "\n",
    "projections = json_data[\"data\"]\n",
    "for player in players:\n",
    "    player[\"stats\"] = {}\n",
    "    for projection in projections:\n",
    "        if projection[\"type\"] == \"projection\":\n",
    "            player_id = projection[\"relationships\"][\"new_player\"][\"data\"][\"id\"]\n",
    "\n",
    "            flash_sale = projection[\"attributes\"][\"flash_sale_line_score\"]\n",
    "            line_score = projection[\"attributes\"][\"line_score\"]\n",
    "            stat_type = projection[\"attributes\"][\"stat_type\"]\n",
    "            against = projection[\"attributes\"][\"description\"]\n",
    "\n",
    "            if flash_sale:\n",
    "                score = flash_sale\n",
    "            else:\n",
    "                score = line_score\n",
    "            if player[\"id\"] == player_id:\n",
    "                player[\"opponent\"] = against\n",
    "                player[\"stats\"][stat_type] = score"
   ]
  },
  {
   "cell_type": "code",
   "execution_count": null,
   "metadata": {},
   "outputs": [],
   "source": [
    "df = pd.DataFrame(players)\n",
    "\n",
    "df['bet types'] = df['stats'].apply(lambda x: list(x.keys()))\n",
    "df['lines'] = df['stats'].apply(lambda x: list(x.values()))\n",
    "df = df.drop(columns=['stats'])\n",
    "\n",
    "lines_list_of_lists = df['lines'].tolist()\n",
    "lines_list = [item for sublist in lines_list_of_lists for item in sublist]\n",
    "df = df.explode('bet types', ignore_index=True)\n",
    "df['lines'] = lines_list\n",
    "\n",
    "shots_df = df[df['bet types'] == \"Shots\"]\n",
    "sogs_df = df[df['bet types'] == \"Shots On Target\"]\n",
    "shots_df = shots_df.drop(columns=['bet types', 'id'])\n",
    "sogs_df = sogs_df.drop(columns=['bet types', 'id'])\n",
    "\n",
    "shots_df.head()"
   ]
  },
  {
   "cell_type": "code",
   "execution_count": null,
   "metadata": {},
   "outputs": [],
   "source": [
    "sogs_df.head()"
   ]
  }
 ],
 "metadata": {
  "kernelspec": {
   "display_name": "Python 3",
   "language": "python",
   "name": "python3"
  },
  "language_info": {
   "codemirror_mode": {
    "name": "ipython",
    "version": 3
   },
   "file_extension": ".py",
   "mimetype": "text/x-python",
   "name": "python",
   "nbconvert_exporter": "python",
   "pygments_lexer": "ipython3",
   "version": "3.11.3"
  },
  "orig_nbformat": 4
 },
 "nbformat": 4,
 "nbformat_minor": 2
}
