{
 "cells": [
  {
   "cell_type": "code",
   "execution_count": 5,
   "metadata": {},
   "outputs": [
    {
     "name": "stderr",
     "output_type": "stream",
     "text": [
      "C:\\Users\\14243\\AppData\\Local\\Temp\\ipykernel_1360\\1965755093.py:11: DeprecationWarning: executable_path has been deprecated, please pass in a Service object\n",
      "  driver = webdriver.Chrome(PATH)\n"
     ]
    },
    {
     "ename": "TimeoutException",
     "evalue": "Message: \n",
     "output_type": "error",
     "traceback": [
      "\u001b[1;31m---------------------------------------------------------------------------\u001b[0m",
      "\u001b[1;31mTimeoutException\u001b[0m                          Traceback (most recent call last)",
      "Cell \u001b[1;32mIn[5], line 40\u001b[0m\n\u001b[0;32m     37\u001b[0m \u001b[39mfor\u001b[39;00m category \u001b[39min\u001b[39;00m categories:\n\u001b[0;32m     38\u001b[0m     driver\u001b[39m.\u001b[39mfind_element(By\u001b[39m.\u001b[39mXPATH, \u001b[39mf\u001b[39m\u001b[39m\"\u001b[39m\u001b[39m//div[text()=\u001b[39m\u001b[39m'\u001b[39m\u001b[39m{\u001b[39;00mcategory\u001b[39m}\u001b[39;00m\u001b[39m'\u001b[39m\u001b[39m]\u001b[39m\u001b[39m\"\u001b[39m)\u001b[39m.\u001b[39mclick()\n\u001b[1;32m---> 40\u001b[0m     projectionsPP \u001b[39m=\u001b[39m WebDriverWait(driver, \u001b[39m5\u001b[39;49m)\u001b[39m.\u001b[39;49muntil(\n\u001b[0;32m     41\u001b[0m         EC\u001b[39m.\u001b[39;49mpresence_of_all_elements_located((By\u001b[39m.\u001b[39;49mCSS_SELECTOR, \u001b[39m\"\u001b[39;49m\u001b[39m.projection\u001b[39;49m\u001b[39m\"\u001b[39;49m)))\n\u001b[0;32m     43\u001b[0m     \u001b[39mfor\u001b[39;00m projections \u001b[39min\u001b[39;00m projectionsPP:\n\u001b[0;32m     44\u001b[0m         names \u001b[39m=\u001b[39m projections\u001b[39m.\u001b[39mfind_element(By\u001b[39m.\u001b[39mCLASS_NAME, \u001b[39m\"\u001b[39m\u001b[39mname\u001b[39m\u001b[39m\"\u001b[39m)\u001b[39m.\u001b[39mtext\n",
      "File \u001b[1;32m~\\AppData\\Local\\Packages\\PythonSoftwareFoundation.Python.3.10_qbz5n2kfra8p0\\LocalCache\\local-packages\\Python310\\site-packages\\selenium\\webdriver\\support\\wait.py:95\u001b[0m, in \u001b[0;36mWebDriverWait.until\u001b[1;34m(self, method, message)\u001b[0m\n\u001b[0;32m     93\u001b[0m     \u001b[39mif\u001b[39;00m time\u001b[39m.\u001b[39mmonotonic() \u001b[39m>\u001b[39m end_time:\n\u001b[0;32m     94\u001b[0m         \u001b[39mbreak\u001b[39;00m\n\u001b[1;32m---> 95\u001b[0m \u001b[39mraise\u001b[39;00m TimeoutException(message, screen, stacktrace)\n",
      "\u001b[1;31mTimeoutException\u001b[0m: Message: \n"
     ]
    }
   ],
   "source": [
    "from selenium import webdriver\n",
    "from selenium.webdriver.common.by import By\n",
    "from selenium.webdriver.support.ui import WebDriverWait\n",
    "from selenium.webdriver.support import expected_conditions as EC\n",
    "import time\n",
    "import pandas as pd\n",
    "\n",
    "############################################################################\n",
    "\n",
    "PATH = \"C:\\Program Files (x86)\\chromedriver.exe\"\n",
    "driver = webdriver.Chrome(PATH)\n",
    "\n",
    "############################################################################\n",
    "\n",
    "# Scraping PrizePicks\n",
    "driver.get(\"https://app.prizepicks.com/\")\n",
    "\n",
    "# Waiting and closes popup\n",
    "wait = WebDriverWait(driver, 15).until(EC.presence_of_all_elements_located((By.CLASS_NAME, \"close\")))\n",
    "driver.find_element(By.XPATH, \"/html/body/div[2]/div[3]/div/div/div[3]/button\").click()\n",
    "time.sleep(1)\n",
    "\n",
    "# Creating tables for players\n",
    "ppPlayers = []\n",
    "\n",
    "# Now it will click NBA tab, change NBA to the sport of your liking supported by PrizePicks.\n",
    "driver.find_element(By.XPATH, \"//div[@class='name'][normalize-space()='SOCCER']\").click()\n",
    "time.sleep(2)\n",
    "\n",
    "# Waits until stat container element is viewable\n",
    "stat_container = WebDriverWait(driver, 1).until(EC.visibility_of_element_located((By.CLASS_NAME, \"stat-container\")))\n",
    "\n",
    "# Finding all the stat elements within the stat-container such as Pass Yards, Receiving Yards, Receptions, etc.\n",
    "categories = driver.find_element(By.CSS_SELECTOR, \".stat-container\").text.split('\\n')\n",
    "\n",
    "# Collecting categories\n",
    "for category in categories:\n",
    "    driver.find_element(By.XPATH, f\"//div[text()='{category}']\").click()\n",
    "\n",
    "    projectionsPP = WebDriverWait(driver, 5).until(\n",
    "        EC.presence_of_all_elements_located((By.CSS_SELECTOR, \".projection\")))\n",
    "\n",
    "    for projections in projectionsPP:\n",
    "        names = projections.find_element(By.CLASS_NAME, \"name\").text\n",
    "        pts = projections.find_element(By.CLASS_NAME, \"presale-score\").get_attribute('innerHTML')\n",
    "        proptype = projections.find_element(By.CLASS_NAME, \"text\").get_attribute('innerHTML')\n",
    "\n",
    "        players = {\n",
    "            'Name': names,\n",
    "            'Points': pts,\n",
    "            'Prop': proptype.replace(\"<wbr>\", \"\")\n",
    "        }\n",
    "        ppPlayers.append(players)\n",
    "\n",
    "dfProps = pd.DataFrame(ppPlayers)\n",
    "dfProps.to_csv('test.csv')\n",
    "\n",
    "print(\"These are all of the props offered by PP.\", '\\n')\n",
    "print(dfProps)\n",
    "print('\\n')"
   ]
  },
  {
   "cell_type": "code",
   "execution_count": null,
   "metadata": {},
   "outputs": [],
   "source": []
  }
 ],
 "metadata": {
  "kernelspec": {
   "display_name": "Python 3",
   "language": "python",
   "name": "python3"
  },
  "language_info": {
   "codemirror_mode": {
    "name": "ipython",
    "version": 3
   },
   "file_extension": ".py",
   "mimetype": "text/x-python",
   "name": "python",
   "nbconvert_exporter": "python",
   "pygments_lexer": "ipython3",
   "version": "3.10.11"
  },
  "orig_nbformat": 4
 },
 "nbformat": 4,
 "nbformat_minor": 2
}
